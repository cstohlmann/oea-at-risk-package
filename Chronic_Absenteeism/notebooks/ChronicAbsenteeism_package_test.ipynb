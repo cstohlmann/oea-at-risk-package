{
  "nbformat": 4,
  "nbformat_minor": 2,
  "metadata": {
    "kernelspec": {
      "name": "synapse_pyspark",
      "display_name": "Synapse PySpark"
    },
    "language_info": {
      "name": "python"
    },
    "description": null,
    "save_output": true,
    "synapse_widget": {
      "version": "0.1",
      "state": {}
    }
  },
  "cells": [
    {
      "cell_type": "markdown",
      "metadata": {
        "nteract": {
          "transient": {
            "deleting": false
          }
        }
      },
      "source": [
        "# Chronic Absenteeism Package Test\r\n",
        "*Test environment for working on the class notebook (Stohlmann 4/2022)*"
      ]
    },
    {
      "cell_type": "code",
      "execution_count": 4,
      "outputs": [
        {
          "output_type": "display_data",
          "data": {
            "application/vnd.livy.statement-meta+json": {
              "spark_pool": null,
              "session_id": 3,
              "statement_id": -1,
              "state": "finished",
              "livy_statement_state": "available",
              "queued_time": "2022-04-21T21:25:58.3848154Z",
              "session_start_time": null,
              "execution_start_time": "2022-04-21T21:25:59.2770371Z",
              "execution_finish_time": "2022-04-21T21:25:59.2773663Z"
            },
            "text/plain": "StatementMeta(, 3, -1, Finished, Available)"
          },
          "metadata": {}
        },
        {
          "output_type": "stream",
          "name": "stdout",
          "text": [
            "2022-04-21 21:25:58,810 - OEA - DEBUG - OEA initialized.\nOEA initialized."
          ]
        }
      ],
      "metadata": {
        "jupyter": {
          "source_hidden": false,
          "outputs_hidden": false
        },
        "nteract": {
          "transient": {
            "deleting": false
          }
        }
      },
      "source": [
        "%run /OEA_py"
      ]
    },
    {
      "cell_type": "code",
      "execution_count": 16,
      "outputs": [
        {
          "output_type": "display_data",
          "data": {
            "application/vnd.livy.statement-meta+json": {
              "spark_pool": null,
              "session_id": 3,
              "statement_id": -1,
              "state": "finished",
              "livy_statement_state": "available",
              "queued_time": "2022-04-21T21:31:14.5299555Z",
              "session_start_time": null,
              "execution_start_time": "2022-04-21T21:31:14.906932Z",
              "execution_finish_time": "2022-04-21T21:31:14.9073021Z"
            },
            "text/plain": "StatementMeta(, 3, -1, Finished, Available)"
          },
          "metadata": {}
        }
      ],
      "metadata": {
        "jupyter": {
          "source_hidden": false,
          "outputs_hidden": false
        },
        "nteract": {
          "transient": {
            "deleting": false
          }
        }
      },
      "source": [
        "%run /ChronicAbsenteeism_py"
      ]
    },
    {
      "cell_type": "code",
      "execution_count": 17,
      "outputs": [
        {
          "output_type": "display_data",
          "data": {
            "application/vnd.livy.statement-meta+json": {
              "spark_pool": "med3",
              "session_id": 3,
              "statement_id": 18,
              "state": "finished",
              "livy_statement_state": "available",
              "queued_time": "2022-04-21T21:31:15.2410988Z",
              "session_start_time": null,
              "execution_start_time": "2022-04-21T21:31:15.3435273Z",
              "execution_finish_time": "2022-04-21T21:31:15.841603Z"
            },
            "text/plain": "StatementMeta(med3, 3, 18, Finished, Available)"
          },
          "metadata": {}
        },
        {
          "output_type": "stream",
          "name": "stdout",
          "text": [
            "2022-04-21 21:31:15,495 - OEA - DEBUG - OEA initialized.\nOEA initialized.\nabfss://stage2p@stoeahybriddev2.dfs.core.windows.net/ActivitySchema\nabfss://stage2p@stoeahybriddev2.dfs.core.windows.net/M365"
          ]
        }
      ],
      "metadata": {
        "jupyter": {
          "source_hidden": false,
          "outputs_hidden": false
        },
        "nteract": {
          "transient": {
            "deleting": false
          }
        }
      },
      "source": [
        "# 0) Initialize the OEA framework and modules needed.\r\n",
        "oea = OEA()\r\n",
        "chronicabsent = ChronicAbsenteeism()"
      ]
    },
    {
      "cell_type": "code",
      "execution_count": 18,
      "outputs": [
        {
          "output_type": "display_data",
          "data": {
            "application/vnd.livy.statement-meta+json": {
              "spark_pool": "med3",
              "session_id": 3,
              "statement_id": 19,
              "state": "finished",
              "livy_statement_state": "available",
              "queued_time": "2022-04-21T21:33:05.6233076Z",
              "session_start_time": null,
              "execution_start_time": "2022-04-21T21:33:05.7702437Z",
              "execution_finish_time": "2022-04-21T21:33:26.846283Z"
            },
            "text/plain": "StatementMeta(med3, 3, 19, Finished, Available)"
          },
          "metadata": {}
        },
        {
          "output_type": "stream",
          "name": "stdout",
          "text": [
            "abfss://stage2p@stoeahybriddev2.dfs.core.windows.net/M365/TechActivity_pseudo/year=2021"
          ]
        }
      ],
      "metadata": {
        "jupyter": {
          "source_hidden": false,
          "outputs_hidden": false
        },
        "nteract": {
          "transient": {
            "deleting": false
          }
        }
      },
      "source": [
        "pth = oea.path('stage2p', directory_path='M365')+'/TechActivity_pseudo/year=2021'\r\n",
        "print(pth)\r\n",
        "df = spark.read.load(pth, format='delta')"
      ]
    },
    {
      "cell_type": "code",
      "execution_count": 7,
      "outputs": [
        {
          "output_type": "display_data",
          "data": {
            "application/vnd.livy.statement-meta+json": {
              "spark_pool": "med3",
              "session_id": 3,
              "statement_id": 8,
              "state": "finished",
              "livy_statement_state": "available",
              "queued_time": "2022-04-21T21:26:03.5960441Z",
              "session_start_time": null,
              "execution_start_time": "2022-04-21T21:26:03.7265702Z",
              "execution_finish_time": "2022-04-21T21:26:05.5751954Z"
            },
            "text/plain": "StatementMeta(med3, 3, 8, Finished, Available)"
          },
          "metadata": {}
        },
        {
          "output_type": "stream",
          "name": "stdout",
          "text": [
            "Processing microsoft_insights data from: abfss://stage2p@stoeahybriddev2.dfs.core.windows.net/M365\nNo defined function for curating this data\nNo defined function for curating this data\nNo defined function for curating this data\nNo defined function for curating this data\nNo defined function for curating this data\nNo defined function for curating this data\nNo defined function for curating this data\nNo defined function for curating this data\nNo defined function for curating this data\nNo defined function for curating this data\nNo defined function for curating this data\nNo defined function for curating this data\nNo defined function for curating this data\nNo defined function for curating this data\nNo defined function for curating this data\nNo defined function for curating this data\nNo defined function for curating this data\nNo defined function for curating this data\nNo defined function for curating this data\nNo defined function for curating this data\nNo defined function for curating this data\nNo defined function for curating this data\nNo defined function for curating this data\nNo defined function for curating this data\nNo defined function for curating this data\nNo defined function for curating this data\nNo defined function for curating this data\nNo defined function for curating this data\nNo defined function for curating this data\nFinished curating stage 2 activity data"
          ]
        }
      ],
      "metadata": {
        "jupyter": {
          "source_hidden": false,
          "outputs_hidden": false
        },
        "nteract": {
          "transient": {
            "deleting": false
          }
        }
      },
      "source": [
        "chronicabsent.curate_activityStage2p()"
      ]
    },
    {
      "cell_type": "code",
      "execution_count": 17,
      "outputs": [
        {
          "output_type": "display_data",
          "data": {
            "application/vnd.livy.statement-meta+json": {
              "spark_pool": "med3",
              "session_id": 2,
              "statement_id": 18,
              "state": "finished",
              "livy_statement_state": "available",
              "queued_time": "2022-04-21T13:41:19.6455518Z",
              "session_start_time": null,
              "execution_start_time": "2022-04-21T13:41:19.7790291Z",
              "execution_finish_time": "2022-04-21T13:41:20.8169688Z"
            },
            "text/plain": "StatementMeta(med3, 2, 18, Finished, Available)"
          },
          "metadata": {}
        }
      ],
      "metadata": {
        "jupyter": {
          "source_hidden": false,
          "outputs_hidden": false
        },
        "nteract": {
          "transient": {
            "deleting": false
          }
        }
      },
      "source": [
        "dfActivity = oea.load_delta('stage2p/M365/TechActivity_pseudo/year=2021')"
      ]
    },
    {
      "cell_type": "code",
      "execution_count": 18,
      "outputs": [
        {
          "output_type": "display_data",
          "data": {
            "application/vnd.livy.statement-meta+json": {
              "spark_pool": "med3",
              "session_id": 2,
              "statement_id": 19,
              "state": "finished",
              "livy_statement_state": "available",
              "queued_time": "2022-04-21T13:41:40.5442551Z",
              "session_start_time": null,
              "execution_start_time": "2022-04-21T13:41:40.6971025Z",
              "execution_finish_time": "2022-04-21T13:41:40.8901713Z"
            },
            "text/plain": "StatementMeta(med3, 2, 19, Finished, Available)"
          },
          "metadata": {}
        },
        {
          "output_type": "stream",
          "name": "stdout",
          "text": [
            "root\n |-- SignalType: string (nullable = true)\n |-- StartTime: timestamp (nullable = true)\n |-- UserAgent: string (nullable = true)\n |-- SignalId: string (nullable = true)\n |-- SisClassId: string (nullable = true)\n |-- ClassId: string (nullable = true)\n |-- ChannelId: string (nullable = true)\n |-- AppName: string (nullable = true)\n |-- ActorId_pseudonym: string (nullable = true)\n |-- ActorRole: string (nullable = true)\n |-- SchemaVersion: string (nullable = true)\n |-- AssignmentId: string (nullable = true)\n |-- SubmissionId: string (nullable = true)\n |-- ProbablyDateOfAssignmentActivity: timestamp (nullable = true)\n |-- Action: string (nullable = true)\n |-- DueDate: timestamp (nullable = true)\n |-- ClassCreationDate: timestamp (nullable = true)\n |-- Grade: string (nullable = true)\n |-- SourceFileExtension: string (nullable = true)\n |-- MeetingDuration: integer (nullable = true)\n |-- ToBeChanged: string (nullable = true)\n |-- ToBeUpdated: string (nullable = true)\n |-- year: integer (nullable = true)\n |-- month: integer (nullable = true)"
          ]
        }
      ],
      "metadata": {
        "jupyter": {
          "source_hidden": false,
          "outputs_hidden": false
        },
        "nteract": {
          "transient": {
            "deleting": false
          }
        }
      },
      "source": [
        "dfActivity.printSchema()"
      ]
    },
    {
      "cell_type": "code",
      "execution_count": null,
      "outputs": [
        {
          "output_type": "display_data",
          "data": {
            "application/vnd.livy.statement-meta+json": {
              "spark_pool": null,
              "session_id": null,
              "statement_id": null,
              "state": "cancelled",
              "livy_statement_state": null,
              "queued_time": "2022-04-21T13:23:19.4583736Z",
              "session_start_time": null,
              "execution_start_time": null,
              "execution_finish_time": "2022-04-21T13:23:23.3535778Z"
            },
            "text/plain": "StatementMeta(, , , Cancelled, )"
          },
          "metadata": {}
        }
      ],
      "metadata": {
        "jupyter": {
          "source_hidden": false,
          "outputs_hidden": false
        },
        "nteract": {
          "transient": {
            "deleting": false
          }
        }
      },
      "source": [
        "df = dfActivity.select(['SignalId','ActorId_pseudonym','SignalType','StartTime','MeetingDuration','SchemaVersion','AppName'])\r\n",
        "df = df.withColumnRenamed(\"SignalId\", \"id\")\\\r\n",
        "            .withColumnRenamed(\"ActorId_pseudonym\", \"actor\")\\\r\n",
        "            .withColumnRenamed(\"SignalType\", \"action\")\\\r\n",
        "            .withColumnRenamed(\"StartTime\", \"eventTime\")\\\r\n",
        "            .withColumnRenamed(\"MeetingDuration\", \"details\")\\\r\n",
        "            .withColumnRenamed(\"SchemaVersion\", \"version\")\\\r\n",
        "            .withColumnRenamed(\"AppName\", \"type\")\r\n",
        "\r\n",
        "df = df.withColumn('object', F.lit('MSInsights'))\r\n",
        "\r\n",
        "df = df.withColumn('year', F.year(F.col('eventTime'))).withColumn('month', F.month(F.col('eventTime')))\r\n",
        "\r\n",
        "df.printSchema()\r\n",
        ""
      ]
    },
    {
      "cell_type": "code",
      "execution_count": null,
      "outputs": [
        {
          "output_type": "display_data",
          "data": {
            "application/vnd.livy.statement-meta+json": {
              "spark_pool": null,
              "session_id": null,
              "statement_id": null,
              "state": "cancelled",
              "livy_statement_state": null,
              "queued_time": "2022-04-21T13:23:19.4609739Z",
              "session_start_time": null,
              "execution_start_time": null,
              "execution_finish_time": "2022-04-21T13:23:23.354533Z"
            },
            "text/plain": "StatementMeta(, , , Cancelled, )"
          },
          "metadata": {}
        }
      ],
      "metadata": {
        "jupyter": {
          "source_hidden": false,
          "outputs_hidden": false
        },
        "nteract": {
          "transient": {
            "deleting": false
          }
        }
      },
      "source": [
        "#df.write.partitionBy(['year', 'month']).format('delta').mode('overwrite') \\\r\n",
        "#  .save('abfss://stage2p@syn-oea-hybriddev2.dfs.core.windows.net/activitySchema/')"
      ]
    },
    {
      "cell_type": "code",
      "execution_count": null,
      "outputs": [],
      "metadata": {
        "jupyter": {
          "source_hidden": false,
          "outputs_hidden": false
        },
        "nteract": {
          "transient": {
            "deleting": false
          }
        }
      },
      "source": []
    }
  ]
}