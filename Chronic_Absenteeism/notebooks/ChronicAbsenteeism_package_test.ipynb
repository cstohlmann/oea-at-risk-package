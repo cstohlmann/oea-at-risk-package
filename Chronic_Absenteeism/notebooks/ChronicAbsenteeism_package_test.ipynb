{
  "nbformat": 4,
  "nbformat_minor": 2,
  "cells": [
    {
      "cell_type": "markdown",
      "metadata": {
        "nteract": {
          "transient": {
            "deleting": false
          }
        }
      },
      "source": [
        "# Chronic Absenteeism Package Test\r\n",
        "*Test environment for working on the class notebook (Stohlmann 4/2022)*"
      ]
    },
    {
      "cell_type": "code",
      "execution_count": 4,
      "outputs": [
        {
          "output_type": "display_data",
          "data": {}
        },
        {
          "output_type": "display_data",
          "data": {}
        }
      ],
      "metadata": {
        "jupyter": {
          "source_hidden": false,
          "outputs_hidden": false
        },
        "nteract": {
          "transient": {
            "deleting": false
          }
        }
      },
      "source": [
        "%run /OEA_py"
      ]
    },
    {
      "cell_type": "code",
      "execution_count": 16,
      "outputs": [
        {
          "output_type": "display_data",
          "data": {}
        }
      ],
      "metadata": {
        "jupyter": {
          "source_hidden": false,
          "outputs_hidden": false
        },
        "nteract": {
          "transient": {
            "deleting": false
          }
        }
      },
      "source": [
        "%run /ChronicAbsenteeism_py"
      ]
    },
    {
      "cell_type": "code",
      "execution_count": 17,
      "outputs": [
        {
          "output_type": "display_data",
          "data": {}
        },
        {
          "output_type": "display_data",
          "data": {}
        }
      ],
      "metadata": {
        "jupyter": {
          "source_hidden": false,
          "outputs_hidden": false
        },
        "nteract": {
          "transient": {
            "deleting": false
          }
        }
      },
      "source": [
        "# 0) Initialize the OEA framework and modules needed.\r\n",
        "oea = OEA()\r\n",
        "chronicabsent = ChronicAbsenteeism()"
      ]
    },
    {
      "cell_type": "code",
      "execution_count": 18,
      "outputs": [
        {
          "output_type": "display_data",
          "data": {}
        },
        {
          "output_type": "display_data",
          "data": {}
        }
      ],
      "metadata": {
        "jupyter": {
          "source_hidden": false,
          "outputs_hidden": false
        },
        "nteract": {
          "transient": {
            "deleting": false
          }
        }
      },
      "source": [
        "pth = oea.path('stage2p', directory_path='M365')+'/TechActivity_pseudo/year=2021'\r\n",
        "print(pth)\r\n",
        "df = spark.read.load(pth, format='delta')"
      ]
    },
    {
      "cell_type": "code",
      "execution_count": 7,
      "outputs": [
        {
          "output_type": "display_data",
          "data": {}
        },
        {
          "output_type": "display_data",
          "data": {}
        }
      ],
      "metadata": {
        "jupyter": {
          "source_hidden": false,
          "outputs_hidden": false
        },
        "nteract": {
          "transient": {
            "deleting": false
          }
        }
      },
      "source": [
        "chronicabsent.curate_activityStage2p()"
      ]
    },
    {
      "cell_type": "code",
      "execution_count": 17,
      "outputs": [
        {
          "output_type": "display_data",
          "data": {}
        }
      ],
      "metadata": {
        "jupyter": {
          "source_hidden": false,
          "outputs_hidden": false
        },
        "nteract": {
          "transient": {
            "deleting": false
          }
        }
      },
      "source": [
        "dfActivity = oea.load_delta('stage2p/M365/TechActivity_pseudo/year=2021')"
      ]
    },
    {
      "cell_type": "code",
      "execution_count": 18,
      "outputs": [
        {
          "output_type": "display_data",
          "data": {}
        },
        {
          "output_type": "display_data",
          "data": {}
        }
      ],
      "metadata": {
        "jupyter": {
          "source_hidden": false,
          "outputs_hidden": false
        },
        "nteract": {
          "transient": {
            "deleting": false
          }
        }
      },
      "source": [
        "dfActivity.printSchema()"
      ]
    },
    {
      "cell_type": "code",
      "execution_count": null,
      "outputs": [
        {
          "output_type": "display_data",
          "data": {}
        }
      ],
      "metadata": {
        "jupyter": {
          "source_hidden": false,
          "outputs_hidden": false
        },
        "nteract": {
          "transient": {
            "deleting": false
          }
        }
      },
      "source": [
        "df = dfActivity.select(['SignalId','ActorId_pseudonym','SignalType','StartTime','MeetingDuration','SchemaVersion','AppName'])\r\n",
        "df = df.withColumnRenamed(\"SignalId\", \"id\")\\\r\n",
        "            .withColumnRenamed(\"ActorId_pseudonym\", \"actor\")\\\r\n",
        "            .withColumnRenamed(\"SignalType\", \"action\")\\\r\n",
        "            .withColumnRenamed(\"StartTime\", \"eventTime\")\\\r\n",
        "            .withColumnRenamed(\"MeetingDuration\", \"details\")\\\r\n",
        "            .withColumnRenamed(\"SchemaVersion\", \"version\")\\\r\n",
        "            .withColumnRenamed(\"AppName\", \"type\")\r\n",
        "\r\n",
        "df = df.withColumn('object', F.lit('MSInsights'))\r\n",
        "\r\n",
        "df = df.withColumn('year', F.year(F.col('eventTime'))).withColumn('month', F.month(F.col('eventTime')))\r\n",
        "\r\n",
        "df.printSchema()\r\n",
        ""
      ]
    },
    {
      "cell_type": "code",
      "execution_count": null,
      "outputs": [
        {
          "output_type": "display_data",
          "data": {}
        }
      ],
      "metadata": {
        "jupyter": {
          "source_hidden": false,
          "outputs_hidden": false
        },
        "nteract": {
          "transient": {
            "deleting": false
          }
        }
      },
      "source": [
        "#df.write.partitionBy(['year', 'month']).format('delta').mode('overwrite') \\\r\n",
        "#  .save('abfss://stage2p@syn-oea-hybriddev2.dfs.core.windows.net/activitySchema/')"
      ]
    },
    {
      "cell_type": "code",
      "execution_count": null,
      "outputs": [],
      "metadata": {
        "jupyter": {
          "source_hidden": false,
          "outputs_hidden": false
        },
        "nteract": {
          "transient": {
            "deleting": false
          }
        }
      },
      "source": [
        ""
      ]
    }
  ],
  "metadata": {
    "description": null,
    "save_output": true,
    "kernelspec": {
      "name": "synapse_pyspark",
      "display_name": "Synapse PySpark"
    },
    "language_info": {
      "name": "python"
    }
  }
}